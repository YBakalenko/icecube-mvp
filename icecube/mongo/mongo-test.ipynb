{
 "cells": [
  {
   "cell_type": "code",
   "execution_count": 79,
   "id": "650e4d5d-56f7-4267-9213-6da07f3e5c3c",
   "metadata": {},
   "outputs": [],
   "source": [
    "import os\n",
    "import yaml\n",
    "import json\n",
    "import gridfs\n",
    "import joblib\n",
    "import io\n",
    "from typing import Text, Dict\n",
    "from pymongo import MongoClient"
   ]
  },
  {
   "cell_type": "code",
   "execution_count": 21,
   "id": "f3973471-3b3f-47b3-8d37-e7acbc535dad",
   "metadata": {},
   "outputs": [],
   "source": [
    "def read_config():\n",
    "    \"\"\"\n",
    "    Чтение конфигурационного файла проекта\n",
    "    :return: словарь настроек\n",
    "    \"\"\"\n",
    "\n",
    "    config_path = '../train/config/params.yml'\n",
    "    config = yaml.load(open(config_path), Loader=yaml.FullLoader)\n",
    "\n",
    "    return config"
   ]
  },
  {
   "cell_type": "code",
   "execution_count": 27,
   "id": "468c8c96-f7d9-402d-bf85-d3e6095e61d7",
   "metadata": {},
   "outputs": [],
   "source": [
    "def db_connection():\n",
    "    \"\"\"\n",
    "    Подключение к базе данных MongoDb\n",
    "    :return: экземпляр базы данных IceCube\n",
    "    \"\"\"\n",
    "    config = read_config()\n",
    "    endpoints = config['host_aliases']\n",
    "    db_config = config['database']\n",
    "\n",
    "    db_host = os.getenv(endpoints['train']['host']['alias'], endpoints['train']['host']['default'])\n",
    "    db_port = os.getenv(endpoints['train']['port']['alias'], endpoints['train']['port']['default'])\n",
    "    db_user = db_config['username']\n",
    "    db_password = db_config['password']\n",
    "\n",
    "    db_url = f'mongodb://{db_user}:{db_password}@{db_host}:{db_port}/'\n",
    "    client = MongoClient(db_url)\n",
    "    db_name = db_config['name']\n",
    "    db = client[db_name]\n",
    "\n",
    "    return db"
   ]
  },
  {
   "cell_type": "code",
   "execution_count": 28,
   "id": "0e3ee54b-ab42-4ec0-bf43-6c04f74cabc6",
   "metadata": {},
   "outputs": [],
   "source": [
    "def insert_file(file_name: Text, file_path: Text, replace: bool = False):\n",
    "    \"\"\"\n",
    "    Вставка файла в БД Mongo с возможностью замены\n",
    "    :param file_path: относительный путь к файлу\n",
    "    :param replace: флаг необходимости замены файла\n",
    "    :param file_name: имя файла, под которым он будет сохранен в БД\n",
    "    \"\"\"\n",
    "    db = db_connection()\n",
    "    fs = gridfs.GridFS(db)\n",
    "    files = fs.find({'filename': file_name})\n",
    "    # Check if the file already exists\n",
    "    if replace:\n",
    "        for file in files:\n",
    "            fs.delete(file._id)\n",
    "\n",
    "    # Open the file in read mode and insert into GridFS\n",
    "    with open(file_path, 'rb') as file_data:\n",
    "        fs.put(file_data, filename=file_name)"
   ]
  },
  {
   "cell_type": "code",
   "execution_count": 66,
   "id": "3d0c6e2c-f59d-46d3-b9be-7ac1c896f45a",
   "metadata": {},
   "outputs": [],
   "source": [
    "def insert_data(collection_name: Text, object_name: Text, contents: dict, replace: bool = False):\n",
    "    \"\"\"\n",
    "    Вставка текстовых данных в БД Mongo с возможностью замены\n",
    "    :param collection_name: имя коллекции в БД\n",
    "    :param object_name: наименование объекта\n",
    "    :param contents: содержимое объекта для записи\n",
    "    :param replace: флаг необходимости замены файла\n",
    "    \"\"\"\n",
    "    db = db_connection()\n",
    "    filter_criteria = {'type': object_name}\n",
    "    collection = db[collection_name]\n",
    "    if replace:\n",
    "        collection.delete_many(filter_criteria)\n",
    "    result = collection.insert_one({'type': object_name, 'contents': contents})\n",
    "\n",
    "    return result"
   ]
  },
  {
   "cell_type": "code",
   "execution_count": 74,
   "id": "20bc62bf-9dd0-4a65-b54b-5725c910c558",
   "metadata": {},
   "outputs": [],
   "source": [
    "def request_data(collection_name: Text, object_name: Text):\n",
    "    \"\"\"\n",
    "    Чтение текстовых данных из БД Mongo\n",
    "    :param collection_name: имя коллекции в БД\n",
    "    :param object_name: наименование объекта\n",
    "    \"\"\"\n",
    "    db = db_connection()\n",
    "    filter_criteria = {'type': object_name}\n",
    "    collection = db[collection_name]\n",
    "    result = collection.find_one(filter_criteria)\n",
    "    if result:\n",
    "        return json.loads(result['contents'])\n",
    "    else:\n",
    "        return None"
   ]
  },
  {
   "cell_type": "code",
   "execution_count": null,
   "id": "a6276f83-15dc-4bdb-9176-8e313af243ba",
   "metadata": {},
   "outputs": [],
   "source": [
    "def request_joblib(filename):\n",
    "    db = db_connection()\n",
    "    fs = gridfs.GridFS(db)\n",
    "    file_data = fs.find_one({'filename': filename})\n",
    "\n",
    "    if file_data:\n",
    "        file_buffer = io.BytesIO(file_data.read())\n",
    "        loaded_object = joblib.load(file_buffer)\n",
    "        return loaded_object\n",
    "    else:\n",
    "        return None"
   ]
  },
  {
   "cell_type": "code",
   "execution_count": 48,
   "id": "015c216a-b666-4355-a184-7f299fd68b64",
   "metadata": {},
   "outputs": [],
   "source": [
    "insert_file('compose.yml', '../docker-compose.yaml', True)"
   ]
  },
  {
   "cell_type": "code",
   "execution_count": 76,
   "id": "8287eed3-7123-43ff-a861-1928ec5d9e05",
   "metadata": {},
   "outputs": [
    {
     "data": {
      "text/plain": [
       "InsertOneResult(ObjectId('667ed3031e5cd0b1c9c2c903'), acknowledged=True)"
      ]
     },
     "execution_count": 76,
     "metadata": {},
     "output_type": "execute_result"
    }
   ],
   "source": [
    "insert_data('train', 'metrics', json.dumps({'a': 1, 'b': 2}), True)"
   ]
  },
  {
   "cell_type": "code",
   "execution_count": 77,
   "id": "901fc45e-9566-47f4-b1d7-d7ac1eb21a64",
   "metadata": {},
   "outputs": [
    {
     "data": {
      "text/plain": [
       "{'a': 1, 'b': 2}"
      ]
     },
     "execution_count": 77,
     "metadata": {},
     "output_type": "execute_result"
    }
   ],
   "source": [
    "data = get_data('train', 'metrics')\n",
    "data"
   ]
  },
  {
   "cell_type": "code",
   "execution_count": null,
   "id": "6670a5fe-8185-4b55-b156-445fbfcb3324",
   "metadata": {},
   "outputs": [],
   "source": []
  }
 ],
 "metadata": {
  "kernelspec": {
   "display_name": "Python 3 (ipykernel)",
   "language": "python",
   "name": "python3"
  },
  "language_info": {
   "codemirror_mode": {
    "name": "ipython",
    "version": 3
   },
   "file_extension": ".py",
   "mimetype": "text/x-python",
   "name": "python",
   "nbconvert_exporter": "python",
   "pygments_lexer": "ipython3",
   "version": "3.9.18"
  }
 },
 "nbformat": 4,
 "nbformat_minor": 5
}
